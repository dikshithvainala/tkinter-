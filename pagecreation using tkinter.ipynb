{
 "cells": [
  {
   "cell_type": "code",
   "execution_count": 1,
   "id": "36ddf3e8",
   "metadata": {},
   "outputs": [],
   "source": [
    "from tkinter import *\n",
    "from tkinter import scrolledtext\n",
    "window=Tk()\n",
    "window.title(\"STUDENT REGISTRATION FROM\")\n",
    "window.geometry('1250x1350')\n",
    "headline =Label(window,text=\"STUDENT REGISTRATION FROM\",font=(\"bold\",25),bg=\"black\",fg=\"white\")\n",
    "headline.grid(column=1,row=0)\n",
    "\n",
    "name = Label(window,text=\"ENTER YOUR FULL NAME*           :\",font=(\"bold\",20))\n",
    "name.grid(column=1,row=1)\n",
    "\n",
    "fname = Label(window,text=\"FATHERS NAME*                          :\",font=(\"bold\",20))\n",
    "fname.grid(column=1,row=2)\n",
    "\n",
    "HTNO = Label(window,text=\"HALL TICKET NUMBER*               :\",font=(\"bold\",20))\n",
    "HTNO.grid(column=1,row=3)\n",
    "\n",
    "txt = Entry(window,width=20,font=(\"bold\",15),bg=\"white\",fg=\"blue\")\n",
    "txt.grid(column=2, row=1)\n",
    "\n",
    "txt1 = Entry(window,width=20,font=(\"bold\",15),bg=\"white\",fg=\"blue\")\n",
    "txt1.grid(column=2, row=2)\n",
    "\n",
    "txt2 = Entry(window,width=20,font=(\"bold\",15),bg=\"white\",fg=\"blue\")\n",
    "txt2.grid(column=2, row=3)\n",
    "\n",
    "gender = Label(window,text=\"GENDER*                                     :\",font=(\"bold\",20))\n",
    "gender.grid(column =1,row=4)\n",
    "\n",
    "rad1 = Radiobutton(window,text='MALE', value=1,font=(\"bold\",15),bg=\"white\",fg=\"blue\")\n",
    "rad1.grid(column=2, row=4)\n",
    "\n",
    "rad2 = Radiobutton(window,text='  FEMALE', value=2,font=(\"bold\",15),bg=\"white\",fg=\"blue\")\n",
    "rad2.grid(column=3, row=4)\n",
    "\n",
    "rad3 = Radiobutton(window,text='  OTHER', value=3,font=(\"bold\",15),bg=\"white\",fg=\"blue\")\n",
    "rad3.grid(column=5, row=4)\n",
    "\n",
    "interclg = Label(window,text =\"INTER COLLEGE NAME*              :\",font=(\"bold\",20))\n",
    "interclg.grid(column=1,row=5)\n",
    "\n",
    "txt3=Entry(window,width=20,font=(\"bold\",15),bg=\"white\",fg=\"blue\")\n",
    "txt3.grid(column=2,row=5)\n",
    "\n",
    "txt4= scrolledtext.ScrolledText(window,width=40,height=10)\n",
    "txt4.grid(column=2,row=19)\n",
    "\n",
    "subjects = Label(window,text=\"2-1 SUBJECTS*                           :\",font=(\"bold\",20))\n",
    "subjects.grid(column=1,row=6)\n",
    "\n",
    "#checkboxes\n",
    "Checkbutton1=IntVar()\n",
    "Checkbutton2=IntVar()\n",
    "Checkbutton3=IntVar()\n",
    "Checkbutton4=IntVar()\n",
    "Checkbutton5=IntVar()\n",
    "Checkbutton6=IntVar()\n",
    "\n",
    "\n",
    "button1 = Checkbutton(window,text=\"PYTHON\", variable =Checkbutton1,font=(\"bold\",15),height=2,width =10)\n",
    "button1.grid(column =2,row=6)\n",
    "                     \n",
    "\n",
    "button2= Checkbutton(window,text=\"MATHS\",variable =Checkbutton2,font=(\"bold\",15),height=2,width =10)\n",
    "\n",
    "button2.grid(column =2,row=7)\n",
    "\n",
    "\n",
    "button3 = Checkbutton(window,text=\"ADE\",variable =Checkbutton3,font=(\"bold\",15),height=2,width =10)\n",
    "button3.grid(column =2,row=8)\n",
    "\n",
    "\n",
    "\n",
    "button4 = Checkbutton(window,text=\"  DS\",variable =Checkbutton4,font=(\"bold\",15),height=2,width =10)\n",
    "button4.grid(column =3,row=6)\n",
    "\n",
    "\n",
    "button5 = Checkbutton(window,text=\"COA\",variable =Checkbutton5,font=(\"bold\",15),height=2,width =10)\n",
    "button5.grid(column =3,row=7)\n",
    "                      \n",
    "\n",
    "button6 = Checkbutton(window,text=\"FAI\",variable =Checkbutton6,font=(\"bold\",15),height=2,width =10)\n",
    "button6.grid(column =3,row=8)\n",
    "                     \n",
    "height = Label(window,text =\"SELECT YOUR HEIGHT*<in cm>   :\",font=(\"bold\",20))\n",
    "height.grid(column=1,row=9)\n",
    "\n",
    "s1 = Scale(window,from_=120,to =200,orient= VERTICAL,bg=\"green\",fg=\"black\")\n",
    "s1.grid(column=2,row=9)\n",
    "\n",
    "age = Label(window,text=\"SELECT YOUR AGE*                :\",font=(\"bold\",20))\n",
    "age.grid(column=1,row=10)\n",
    "\n",
    "\n",
    "\n",
    "sp = Spinbox(window, from_= 0, to = 40,font=(\"bold\",15))\n",
    "sp.grid(column=2,row=10)\n",
    "\n",
    "\n",
    "\n",
    "hb=Label(window,text = \"SELECT YOUR HOBBIES*                 :  \",font=(\"bold\",20))\n",
    "hb.grid(column=1,row=12)\n",
    "list=Listbox(window,font=20)\n",
    "list.insert(1,'dancing')\n",
    "list.insert(2,'singing')\n",
    "list.insert(3,'drawing')\n",
    "list.insert(4,'reading')\n",
    "list.insert(5,\"listening music\")\n",
    "list.insert(6,\"cycleing\")\n",
    "list.insert(7,\"watching movie\")\n",
    "list.grid(column=2,row=12)\n",
    "text_area = Label(window,text=\"ABOUT YOUR SELF    : \",font = (\"Times New Roman\",15))\n",
    "text_area.grid(column=1,row=13)\n",
    "txt4= scrolledtext.ScrolledText(window,width=40,height=10)\n",
    "txt4.grid(column=2,row=13)\n",
    "\n",
    "  \n",
    "\n",
    "window.mainloop()"
   ]
  },
  {
   "cell_type": "code",
   "execution_count": null,
   "id": "0a2b126b",
   "metadata": {},
   "outputs": [],
   "source": []
  },
  {
   "cell_type": "code",
   "execution_count": null,
   "id": "b4630a8c",
   "metadata": {},
   "outputs": [],
   "source": []
  },
  {
   "cell_type": "code",
   "execution_count": null,
   "id": "54ee3068",
   "metadata": {},
   "outputs": [],
   "source": []
  },
  {
   "cell_type": "code",
   "execution_count": null,
   "id": "96db841c",
   "metadata": {},
   "outputs": [],
   "source": []
  },
  {
   "cell_type": "code",
   "execution_count": null,
   "id": "7dbd8e25",
   "metadata": {},
   "outputs": [],
   "source": []
  },
  {
   "cell_type": "code",
   "execution_count": null,
   "id": "e4ada3df",
   "metadata": {},
   "outputs": [],
   "source": []
  },
  {
   "cell_type": "code",
   "execution_count": null,
   "id": "6e1bb9b0",
   "metadata": {},
   "outputs": [],
   "source": []
  },
  {
   "cell_type": "code",
   "execution_count": null,
   "id": "5cb1dd74",
   "metadata": {},
   "outputs": [],
   "source": []
  },
  {
   "cell_type": "code",
   "execution_count": null,
   "id": "ffd3717c",
   "metadata": {},
   "outputs": [],
   "source": []
  },
  {
   "cell_type": "code",
   "execution_count": null,
   "id": "3f77add7",
   "metadata": {},
   "outputs": [],
   "source": []
  },
  {
   "cell_type": "code",
   "execution_count": null,
   "id": "6576c034",
   "metadata": {},
   "outputs": [],
   "source": []
  },
  {
   "cell_type": "code",
   "execution_count": null,
   "id": "a4aa4d67",
   "metadata": {},
   "outputs": [],
   "source": []
  },
  {
   "cell_type": "code",
   "execution_count": null,
   "id": "b6ea72c6",
   "metadata": {},
   "outputs": [],
   "source": []
  },
  {
   "cell_type": "code",
   "execution_count": null,
   "id": "984ab891",
   "metadata": {},
   "outputs": [],
   "source": []
  },
  {
   "cell_type": "code",
   "execution_count": null,
   "id": "3be6c675",
   "metadata": {},
   "outputs": [],
   "source": []
  },
  {
   "cell_type": "code",
   "execution_count": null,
   "id": "070bc8f5",
   "metadata": {},
   "outputs": [],
   "source": []
  },
  {
   "cell_type": "code",
   "execution_count": null,
   "id": "1fd9a1d5",
   "metadata": {},
   "outputs": [],
   "source": []
  },
  {
   "cell_type": "code",
   "execution_count": null,
   "id": "892f5346",
   "metadata": {},
   "outputs": [],
   "source": []
  },
  {
   "cell_type": "code",
   "execution_count": null,
   "id": "ac8e1b2c",
   "metadata": {},
   "outputs": [],
   "source": []
  },
  {
   "cell_type": "code",
   "execution_count": null,
   "id": "dc2d4e8a",
   "metadata": {},
   "outputs": [],
   "source": []
  },
  {
   "cell_type": "code",
   "execution_count": null,
   "id": "52a661af",
   "metadata": {},
   "outputs": [],
   "source": []
  },
  {
   "cell_type": "code",
   "execution_count": null,
   "id": "d5398a86",
   "metadata": {},
   "outputs": [],
   "source": []
  },
  {
   "cell_type": "code",
   "execution_count": null,
   "id": "f9ffc431",
   "metadata": {},
   "outputs": [],
   "source": []
  },
  {
   "cell_type": "code",
   "execution_count": null,
   "id": "f0c3a1b1",
   "metadata": {},
   "outputs": [],
   "source": []
  },
  {
   "cell_type": "code",
   "execution_count": null,
   "id": "4dab4d97",
   "metadata": {},
   "outputs": [],
   "source": []
  },
  {
   "cell_type": "code",
   "execution_count": null,
   "id": "03f815a7",
   "metadata": {},
   "outputs": [],
   "source": []
  },
  {
   "cell_type": "code",
   "execution_count": null,
   "id": "330a2d54",
   "metadata": {},
   "outputs": [],
   "source": []
  },
  {
   "cell_type": "code",
   "execution_count": null,
   "id": "67254ae9",
   "metadata": {},
   "outputs": [],
   "source": []
  },
  {
   "cell_type": "code",
   "execution_count": null,
   "id": "cc26a82d",
   "metadata": {},
   "outputs": [],
   "source": []
  },
  {
   "cell_type": "code",
   "execution_count": null,
   "id": "8ec12fb2",
   "metadata": {},
   "outputs": [],
   "source": []
  },
  {
   "cell_type": "code",
   "execution_count": null,
   "id": "f916d39b",
   "metadata": {},
   "outputs": [],
   "source": []
  },
  {
   "cell_type": "code",
   "execution_count": null,
   "id": "1ad45380",
   "metadata": {},
   "outputs": [],
   "source": []
  },
  {
   "cell_type": "code",
   "execution_count": null,
   "id": "a77b9c6d",
   "metadata": {},
   "outputs": [],
   "source": []
  },
  {
   "cell_type": "code",
   "execution_count": null,
   "id": "73a97c6f",
   "metadata": {},
   "outputs": [],
   "source": []
  },
  {
   "cell_type": "code",
   "execution_count": null,
   "id": "314512fa",
   "metadata": {},
   "outputs": [],
   "source": []
  },
  {
   "cell_type": "code",
   "execution_count": null,
   "id": "5f88e0ca",
   "metadata": {},
   "outputs": [],
   "source": []
  },
  {
   "cell_type": "code",
   "execution_count": null,
   "id": "ff398b71",
   "metadata": {},
   "outputs": [],
   "source": []
  },
  {
   "cell_type": "code",
   "execution_count": null,
   "id": "cf29adc8",
   "metadata": {},
   "outputs": [],
   "source": []
  },
  {
   "cell_type": "code",
   "execution_count": null,
   "id": "d7a7095e",
   "metadata": {},
   "outputs": [],
   "source": []
  },
  {
   "cell_type": "code",
   "execution_count": null,
   "id": "3917239f",
   "metadata": {},
   "outputs": [],
   "source": []
  }
 ],
 "metadata": {
  "kernelspec": {
   "display_name": "Python 3",
   "language": "python",
   "name": "python3"
  },
  "language_info": {
   "codemirror_mode": {
    "name": "ipython",
    "version": 3
   },
   "file_extension": ".py",
   "mimetype": "text/x-python",
   "name": "python",
   "nbconvert_exporter": "python",
   "pygments_lexer": "ipython3",
   "version": "3.8.8"
  }
 },
 "nbformat": 4,
 "nbformat_minor": 5
}
